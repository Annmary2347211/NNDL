{
  "nbformat": 4,
  "nbformat_minor": 0,
  "metadata": {
    "colab": {
      "provenance": [],
      "gpuType": "T4",
      "authorship_tag": "ABX9TyO5Wb50RJ4jcPl/BZ2CR5ur",
      "include_colab_link": true
    },
    "kernelspec": {
      "name": "python3",
      "display_name": "Python 3"
    },
    "language_info": {
      "name": "python"
    },
    "accelerator": "GPU"
  },
  "cells": [
    {
      "cell_type": "markdown",
      "metadata": {
        "id": "view-in-github",
        "colab_type": "text"
      },
      "source": [
        "<a href=\"https://colab.research.google.com/github/Annmary2347211/NNDL/blob/main/Annmary_211_Lab3.ipynb\" target=\"_parent\"><img src=\"https://colab.research.google.com/assets/colab-badge.svg\" alt=\"Open In Colab\"/></a>"
      ]
    },
    {
      "cell_type": "markdown",
      "source": [
        "**Lab4**"
      ],
      "metadata": {
        "id": "Lh5yV4JS6ZNn"
      }
    },
    {
      "cell_type": "markdown",
      "source": [
        "**Objective:**\n",
        "Implement a Radial Basis Function (RBF) Network to classify ancient Japanese\n",
        "characters from the Kuzushiji dataset"
      ],
      "metadata": {
        "id": "NUq6z7aP6MIx"
      }
    },
    {
      "cell_type": "markdown",
      "source": [
        "**1. Data Preparation:**\n",
        "\n",
        "o Load the Kuzushiji dataset from the provided link.\n",
        "\n",
        "o Preprocess the data by normalizing the pixel values between 0 and 1.\n",
        "\n",
        "o Split the dataset into training (80%) and testing (20%) sets.\n"
      ],
      "metadata": {
        "id": "coxTPDCL6dpG"
      }
    },
    {
      "cell_type": "code",
      "execution_count": 14,
      "metadata": {
        "id": "642lGsPa6HMc"
      },
      "outputs": [],
      "source": [
        "# Import necessary libraries\n",
        "import numpy as np\n",
        "import pandas as pd\n",
        "import matplotlib.pyplot as plt\n",
        "from sklearn.model_selection import train_test_split\n",
        "from sklearn.preprocessing import StandardScaler\n",
        "from keras.utils import to_categorical\n",
        "\n",
        "# Load dataset (ensure you have the dataset from the given Kaggle link)\n",
        "from tensorflow.keras.datasets import mnist\n",
        "\n",
        "# Kuzushiji dataset is similar to the MNIST dataset\n",
        "(X_train, y_train), (X_test, y_test) = mnist.load_data()\n",
        "\n",
        "# Normalize the pixel values (0-255) to the range [0, 1]\n",
        "X_train = X_train.astype('float32') / 255.0\n",
        "X_test = X_test.astype('float32') / 255.0\n",
        "\n",
        "# Reshape data to 1D array of 28x28 pixels (784 features)\n",
        "X_train = X_train.reshape(X_train.shape[0], -1)\n",
        "X_test = X_test.reshape(X_test.shape[0], -1)\n",
        "\n",
        "# One-hot encode the labels\n",
        "y_train = to_categorical(y_train, num_classes=10)\n",
        "y_test = to_categorical(y_test, num_classes=10)\n",
        "\n",
        "# Split dataset into training and testing sets (80% training, 20% testing)\n",
        "X_train, X_val, y_train, y_val = train_test_split(X_train, y_train, test_size=0.2, random_state=42)"
      ]
    },
    {
      "cell_type": "markdown",
      "source": [
        "**2. Radial Basis Function (RBF) Network:**\n",
        "\n",
        "o Implement an RBF network using a Gaussian basis function.\n",
        "\n",
        "o Define the architecture:\n",
        "\n",
        "▪ Input layer: 28x28 (784 features for each image).\n",
        "\n",
        "▪ Hidden layer: RBF units with a Gaussian function.\n",
        "\n",
        "▪ Output layer: Softmax activation to classify the character labels\n",
        "(10 classes).\n"
      ],
      "metadata": {
        "id": "8aD-g6HJ8tJD"
      }
    },
    {
      "cell_type": "code",
      "source": [
        "# Import necessary libraries\n",
        "import numpy as np\n",
        "import tensorflow as tf\n",
        "from sklearn.cluster import KMeans\n",
        "from sklearn.model_selection import train_test_split\n",
        "from keras.utils import to_categorical\n",
        "from keras.layers import Input, Dense\n",
        "from keras.models import Model\n",
        "from tensorflow.keras.datasets import mnist  # Using MNIST as an alternative\n",
        "\n",
        "# Load dataset (replace with Kuzushiji dataset if available)\n",
        "(X_train, y_train), (X_test, y_test) = mnist.load_data()\n",
        "\n",
        "# Normalize the pixel values (0-255) to the range [0, 1]\n",
        "X_train = X_train.astype('float32') / 255.0\n",
        "X_test = X_test.astype('float32') / 255.0\n",
        "\n",
        "# Reshape data to 1D array of 28x28 pixels (784 features)\n",
        "X_train = X_train.reshape(X_train.shape[0], -1)\n",
        "X_test = X_test.reshape(X_test.shape[0], -1)\n",
        "\n",
        "# One-hot encode the labels\n",
        "y_train = to_categorical(y_train, num_classes=10)\n",
        "y_test = to_categorical(y_test, num_classes=10)\n",
        "\n",
        "# Split dataset into training and validation sets (80% training, 20% validation)\n",
        "X_train, X_val, y_train, y_val = train_test_split(X_train, y_train, test_size=0.2, random_state=42)\n",
        "\n",
        "# Custom RBF Layer\n",
        "class RBFLayer(tf.keras.layers.Layer):\n",
        "    def __init__(self, units, gamma=1.0, **kwargs):\n",
        "        super(RBFLayer, self).__init__(**kwargs)\n",
        "        self.units = units  # Number of RBF neurons\n",
        "        self.gamma = tf.constant(gamma, dtype=tf.float32)\n",
        "\n",
        "    def build(self, input_shape):\n",
        "        # Initialize the centers with zeros, we'll update this later when the model is built\n",
        "        self.centers = self.add_weight(name='centers',\n",
        "                                       shape=(self.units, input_shape[-1]),\n",
        "                                       initializer='zeros',\n",
        "                                       trainable=False)\n",
        "\n",
        "        # Define betas (trainable inverse variance for Gaussian RBFs)\n",
        "        self.betas = self.add_weight(name='betas', shape=(self.units,),\n",
        "                                     initializer='ones', trainable=True)\n",
        "\n",
        "    def call(self, inputs):\n",
        "        # Compute the Euclidean distance between inputs and centers\n",
        "        expanded_inputs = tf.expand_dims(inputs, 1)\n",
        "        expanded_centers = tf.expand_dims(self.centers, 0)\n",
        "        distances = tf.reduce_sum(tf.square(expanded_inputs - expanded_centers), axis=-1)\n",
        "\n",
        "        # Apply Gaussian RBF function\n",
        "        return tf.exp(-self.betas * distances)\n",
        "\n",
        "    def initialize_centers(self, X_train):\n",
        "        # Use KMeans to set the centers based on training data\n",
        "        kmeans = KMeans(n_clusters=self.units)\n",
        "        kmeans.fit(X_train)\n",
        "        self.centers.assign(kmeans.cluster_centers_)  # Assign the KMeans centers to the layer's centers\n",
        "\n",
        "# Create the RBF network model\n",
        "def build_rbf_network(input_dim, num_classes, num_rbf_neurons, gamma=1.0):\n",
        "    inputs = Input(shape=(input_dim,))\n",
        "    rbf_layer = RBFLayer(units=num_rbf_neurons, gamma=gamma)\n",
        "    rbf_outputs = rbf_layer(inputs)\n",
        "    outputs = Dense(num_classes, activation='softmax')(rbf_outputs)\n",
        "    model = Model(inputs, outputs)\n",
        "    return model, rbf_layer\n",
        "\n",
        "# Parameters for the model\n",
        "input_dim = 784  # 28x28 images flattened\n",
        "num_classes = 10  # 10 character classes\n",
        "num_rbf_neurons = 100  # Number of RBF neurons\n",
        "gamma = 0.1  # Gamma for RBF\n",
        "\n",
        "# Build the model\n",
        "model, rbf_layer = build_rbf_network(input_dim, num_classes, num_rbf_neurons, gamma)\n",
        "\n",
        "# Initialize the RBF layer centers with KMeans on the training data\n",
        "rbf_layer.initialize_centers(X_train)\n",
        "\n",
        "# Compile the model\n",
        "model.compile(optimizer='adam', loss='categorical_crossentropy', metrics=['accuracy'])\n",
        "\n",
        "# Train the model\n",
        "history = model.fit(X_train, y_train, epochs=10, batch_size=32, validation_data=(X_val, y_val))\n",
        "\n",
        "# Evaluate the model\n",
        "test_loss, test_acc = model.evaluate(X_test, y_test)\n",
        "print(f\"Test Accuracy: {test_acc * 100:.2f}%\")\n"
      ],
      "metadata": {
        "colab": {
          "base_uri": "https://localhost:8080/"
        },
        "id": "yIuND9zL8vxf",
        "outputId": "593dde8b-4463-4104-a6da-7c4d8228eaeb"
      },
      "execution_count": 15,
      "outputs": [
        {
          "output_type": "stream",
          "name": "stdout",
          "text": [
            "Epoch 1/10\n",
            "\u001b[1m1500/1500\u001b[0m \u001b[32m━━━━━━━━━━━━━━━━━━━━\u001b[0m\u001b[37m\u001b[0m \u001b[1m5s\u001b[0m 3ms/step - accuracy: 0.1157 - loss: 2.2785 - val_accuracy: 0.2474 - val_loss: 2.0626\n",
            "Epoch 2/10\n",
            "\u001b[1m1500/1500\u001b[0m \u001b[32m━━━━━━━━━━━━━━━━━━━━\u001b[0m\u001b[37m\u001b[0m \u001b[1m4s\u001b[0m 2ms/step - accuracy: 0.2652 - loss: 2.0164 - val_accuracy: 0.3367 - val_loss: 1.9000\n",
            "Epoch 3/10\n",
            "\u001b[1m1500/1500\u001b[0m \u001b[32m━━━━━━━━━━━━━━━━━━━━\u001b[0m\u001b[37m\u001b[0m \u001b[1m3s\u001b[0m 2ms/step - accuracy: 0.3795 - loss: 1.8601 - val_accuracy: 0.4515 - val_loss: 1.7521\n",
            "Epoch 4/10\n",
            "\u001b[1m1500/1500\u001b[0m \u001b[32m━━━━━━━━━━━━━━━━━━━━\u001b[0m\u001b[37m\u001b[0m \u001b[1m6s\u001b[0m 3ms/step - accuracy: 0.4485 - loss: 1.7288 - val_accuracy: 0.4846 - val_loss: 1.6748\n",
            "Epoch 5/10\n",
            "\u001b[1m1500/1500\u001b[0m \u001b[32m━━━━━━━━━━━━━━━━━━━━\u001b[0m\u001b[37m\u001b[0m \u001b[1m4s\u001b[0m 2ms/step - accuracy: 0.4737 - loss: 1.6616 - val_accuracy: 0.4835 - val_loss: 1.5727\n",
            "Epoch 6/10\n",
            "\u001b[1m1500/1500\u001b[0m \u001b[32m━━━━━━━━━━━━━━━━━━━━\u001b[0m\u001b[37m\u001b[0m \u001b[1m5s\u001b[0m 2ms/step - accuracy: 0.5002 - loss: 1.5361 - val_accuracy: 0.5385 - val_loss: 1.4544\n",
            "Epoch 7/10\n",
            "\u001b[1m1500/1500\u001b[0m \u001b[32m━━━━━━━━━━━━━━━━━━━━\u001b[0m\u001b[37m\u001b[0m \u001b[1m5s\u001b[0m 2ms/step - accuracy: 0.5303 - loss: 1.4471 - val_accuracy: 0.5504 - val_loss: 1.3952\n",
            "Epoch 8/10\n",
            "\u001b[1m1500/1500\u001b[0m \u001b[32m━━━━━━━━━━━━━━━━━━━━\u001b[0m\u001b[37m\u001b[0m \u001b[1m3s\u001b[0m 2ms/step - accuracy: 0.5550 - loss: 1.3810 - val_accuracy: 0.5504 - val_loss: 1.3648\n",
            "Epoch 9/10\n",
            "\u001b[1m1500/1500\u001b[0m \u001b[32m━━━━━━━━━━━━━━━━━━━━\u001b[0m\u001b[37m\u001b[0m \u001b[1m5s\u001b[0m 2ms/step - accuracy: 0.5703 - loss: 1.3433 - val_accuracy: 0.5609 - val_loss: 1.3162\n",
            "Epoch 10/10\n",
            "\u001b[1m1500/1500\u001b[0m \u001b[32m━━━━━━━━━━━━━━━━━━━━\u001b[0m\u001b[37m\u001b[0m \u001b[1m5s\u001b[0m 2ms/step - accuracy: 0.5908 - loss: 1.2931 - val_accuracy: 0.6086 - val_loss: 1.2485\n",
            "\u001b[1m313/313\u001b[0m \u001b[32m━━━━━━━━━━━━━━━━━━━━\u001b[0m\u001b[37m\u001b[0m \u001b[1m1s\u001b[0m 2ms/step - accuracy: 0.5913 - loss: 1.2946\n",
            "Test Accuracy: 60.83%\n"
          ]
        }
      ]
    },
    {
      "cell_type": "markdown",
      "source": [
        "**3. Training:**\n",
        "\n",
        "o Use K-means clustering to determine the centers of the RBF units.\n",
        "\n",
        "o Implement gradient descent to optimize the network's weights.\n",
        "\n",
        "o Train the network on the training set with a learning rate of 0.01 for 100\n",
        "epochs.\n"
      ],
      "metadata": {
        "id": "GEsR7K2m_kGM"
      }
    },
    {
      "cell_type": "code",
      "source": [
        "# Import necessary libraries\n",
        "import numpy as np\n",
        "import tensorflow as tf\n",
        "from sklearn.cluster import KMeans\n",
        "from sklearn.model_selection import train_test_split\n",
        "from keras.utils import to_categorical\n",
        "from keras.layers import Input, Dense\n",
        "from keras.models import Model\n",
        "from tensorflow.keras.datasets import mnist  # Using MNIST as an alternative\n",
        "\n",
        "# Load dataset (replace with Kuzushiji dataset if available)\n",
        "(X_train, y_train), (X_test, y_test) = mnist.load_data()\n",
        "\n",
        "# Normalize the pixel values (0-255) to the range [0, 1]\n",
        "X_train = X_train.astype('float32') / 255.0\n",
        "X_test = X_test.astype('float32') / 255.0\n",
        "\n",
        "# Reshape data to 1D array of 28x28 pixels (784 features)\n",
        "X_train = X_train.reshape(X_train.shape[0], -1)\n",
        "X_test = X_test.reshape(X_test.shape[0], -1)\n",
        "\n",
        "# One-hot encode the labels\n",
        "y_train = to_categorical(y_train, num_classes=10)\n",
        "y_test = to_categorical(y_test, num_classes=10)\n",
        "\n",
        "# Split dataset into training and validation sets (80% training, 20% validation)\n",
        "X_train, X_val, y_train, y_val = train_test_split(X_train, y_train, test_size=0.2, random_state=42)\n",
        "\n",
        "# Custom RBF Layer\n",
        "class RBFLayer(tf.keras.layers.Layer):\n",
        "    def __init__(self, units, gamma=1.0, **kwargs):\n",
        "        super(RBFLayer, self).__init__(**kwargs)\n",
        "        self.units = units  # Number of RBF neurons\n",
        "        self.gamma = tf.constant(gamma, dtype=tf.float32)\n",
        "\n",
        "    def build(self, input_shape):\n",
        "        # Initialize the centers with zeros, we'll update this later when the model is built\n",
        "        self.centers = self.add_weight(name='centers',\n",
        "                                       shape=(self.units, input_shape[-1]),\n",
        "                                       initializer='zeros',\n",
        "                                       trainable=False)\n",
        "\n",
        "        # Define betas (trainable inverse variance for Gaussian RBFs)\n",
        "        self.betas = self.add_weight(name='betas', shape=(self.units,),\n",
        "                                     initializer='ones', trainable=True)\n",
        "\n",
        "    def call(self, inputs):\n",
        "        # Compute the Euclidean distance between inputs and centers\n",
        "        expanded_inputs = tf.expand_dims(inputs, 1)\n",
        "        expanded_centers = tf.expand_dims(self.centers, 0)\n",
        "        distances = tf.reduce_sum(tf.square(expanded_inputs - expanded_centers), axis=-1)\n",
        "\n",
        "        # Apply Gaussian RBF function\n",
        "        return tf.exp(-self.betas * distances)\n",
        "\n",
        "    def initialize_centers(self, X_train):\n",
        "        # Use KMeans to set the centers based on training data\n",
        "        kmeans = KMeans(n_clusters=self.units)\n",
        "        kmeans.fit(X_train)\n",
        "        self.centers.assign(kmeans.cluster_centers_)  # Assign the KMeans centers to the layer's centers\n",
        "\n",
        "# Create the RBF network model\n",
        "def build_rbf_network(input_dim, num_classes, num_rbf_neurons, gamma=1.0):\n",
        "    inputs = Input(shape=(input_dim,))\n",
        "    rbf_layer = RBFLayer(units=num_rbf_neurons, gamma=gamma)\n",
        "    rbf_outputs = rbf_layer(inputs)\n",
        "    outputs = Dense(num_classes, activation='softmax')(rbf_outputs)\n",
        "    model = Model(inputs, outputs)\n",
        "    return model, rbf_layer\n",
        "\n",
        "# Parameters for the model\n",
        "input_dim = 784  # 28x28 images flattened\n",
        "num_classes = 10  # 10 character classes\n",
        "num_rbf_neurons = 100  # Number of RBF neurons\n",
        "gamma = 0.1  # Gamma for RBF\n",
        "\n",
        "# Build the model\n",
        "model, rbf_layer = build_rbf_network(input_dim, num_classes, num_rbf_neurons, gamma)\n",
        "\n",
        "# Initialize the RBF layer centers with KMeans on the training data\n",
        "rbf_layer.initialize_centers(X_train)\n",
        "\n",
        "# Compile the model with a learning rate of 0.01 using Adam optimizer\n",
        "optimizer = tf.keras.optimizers.Adam(learning_rate=0.01)\n",
        "model.compile(optimizer=optimizer, loss='categorical_crossentropy', metrics=['accuracy'])\n",
        "\n",
        "# Train the model for 100 epochs\n",
        "# Train the model for 10 epochs\n",
        "history = model.fit(X_train, y_train, epochs=10, batch_size=32, validation_data=(X_val, y_val))\n",
        "\n",
        "\n",
        "# Evaluate the model on the test data\n",
        "test_loss, test_acc = model.evaluate(X_test, y_test)\n",
        "print(f\"Test Accuracy: {test_acc * 100:.2f}%\")\n"
      ],
      "metadata": {
        "colab": {
          "base_uri": "https://localhost:8080/"
        },
        "id": "IP0FoD5p9Uof",
        "outputId": "bc202642-c30e-4f9c-e02e-968065833548"
      },
      "execution_count": 16,
      "outputs": [
        {
          "output_type": "stream",
          "name": "stdout",
          "text": [
            "Epoch 1/10\n",
            "\u001b[1m1500/1500\u001b[0m \u001b[32m━━━━━━━━━━━━━━━━━━━━\u001b[0m\u001b[37m\u001b[0m \u001b[1m5s\u001b[0m 2ms/step - accuracy: 0.2452 - loss: 2.0179 - val_accuracy: 0.4392 - val_loss: 1.6080\n",
            "Epoch 2/10\n",
            "\u001b[1m1500/1500\u001b[0m \u001b[32m━━━━━━━━━━━━━━━━━━━━\u001b[0m\u001b[37m\u001b[0m \u001b[1m4s\u001b[0m 2ms/step - accuracy: 0.4256 - loss: 1.6016 - val_accuracy: 0.3643 - val_loss: 1.6408\n",
            "Epoch 3/10\n",
            "\u001b[1m1500/1500\u001b[0m \u001b[32m━━━━━━━━━━━━━━━━━━━━\u001b[0m\u001b[37m\u001b[0m \u001b[1m3s\u001b[0m 2ms/step - accuracy: 0.4748 - loss: 1.4790 - val_accuracy: 0.4746 - val_loss: 1.3895\n",
            "Epoch 4/10\n",
            "\u001b[1m1500/1500\u001b[0m \u001b[32m━━━━━━━━━━━━━━━━━━━━\u001b[0m\u001b[37m\u001b[0m \u001b[1m3s\u001b[0m 2ms/step - accuracy: 0.5201 - loss: 1.3810 - val_accuracy: 0.4979 - val_loss: 1.3566\n",
            "Epoch 5/10\n",
            "\u001b[1m1500/1500\u001b[0m \u001b[32m━━━━━━━━━━━━━━━━━━━━\u001b[0m\u001b[37m\u001b[0m \u001b[1m3s\u001b[0m 2ms/step - accuracy: 0.5417 - loss: 1.3067 - val_accuracy: 0.6382 - val_loss: 1.1380\n",
            "Epoch 6/10\n",
            "\u001b[1m1500/1500\u001b[0m \u001b[32m━━━━━━━━━━━━━━━━━━━━\u001b[0m\u001b[37m\u001b[0m \u001b[1m3s\u001b[0m 2ms/step - accuracy: 0.5840 - loss: 1.2051 - val_accuracy: 0.5747 - val_loss: 1.2404\n",
            "Epoch 7/10\n",
            "\u001b[1m1500/1500\u001b[0m \u001b[32m━━━━━━━━━━━━━━━━━━━━\u001b[0m\u001b[37m\u001b[0m \u001b[1m6s\u001b[0m 2ms/step - accuracy: 0.6041 - loss: 1.1436 - val_accuracy: 0.6422 - val_loss: 1.0752\n",
            "Epoch 8/10\n",
            "\u001b[1m1500/1500\u001b[0m \u001b[32m━━━━━━━━━━━━━━━━━━━━\u001b[0m\u001b[37m\u001b[0m \u001b[1m3s\u001b[0m 2ms/step - accuracy: 0.6233 - loss: 1.1009 - val_accuracy: 0.6190 - val_loss: 1.0575\n",
            "Epoch 9/10\n",
            "\u001b[1m1500/1500\u001b[0m \u001b[32m━━━━━━━━━━━━━━━━━━━━\u001b[0m\u001b[37m\u001b[0m \u001b[1m3s\u001b[0m 2ms/step - accuracy: 0.6289 - loss: 1.0782 - val_accuracy: 0.6023 - val_loss: 1.1080\n",
            "Epoch 10/10\n",
            "\u001b[1m1500/1500\u001b[0m \u001b[32m━━━━━━━━━━━━━━━━━━━━\u001b[0m\u001b[37m\u001b[0m \u001b[1m5s\u001b[0m 2ms/step - accuracy: 0.6485 - loss: 1.0229 - val_accuracy: 0.6733 - val_loss: 0.9404\n",
            "\u001b[1m313/313\u001b[0m \u001b[32m━━━━━━━━━━━━━━━━━━━━\u001b[0m\u001b[37m\u001b[0m \u001b[1m2s\u001b[0m 3ms/step - accuracy: 0.6553 - loss: 0.9789\n",
            "Test Accuracy: 68.20%\n"
          ]
        }
      ]
    },
    {
      "cell_type": "markdown",
      "source": [
        "**4. Evaluation:**\n",
        "\n",
        "o Evaluate the model on the test set using accuracy and confusion matrix.\n",
        "\n",
        "o Visualize the performance evaluation metrics."
      ],
      "metadata": {
        "id": "KVPL1V4_CwnZ"
      }
    },
    {
      "cell_type": "code",
      "source": [
        "# Import necessary libraries for evaluation\n",
        "import matplotlib.pyplot as plt\n",
        "import seaborn as sns\n",
        "from sklearn.metrics import confusion_matrix, classification_report\n",
        "\n",
        "# Evaluate the model on the test data (accuracy)\n",
        "test_loss, test_acc = model.evaluate(X_test, y_test)\n",
        "print(f\"Test Accuracy: {test_acc * 100:.2f}%\")\n",
        "\n",
        "# Get predictions on the test data\n",
        "y_pred = model.predict(X_test)\n",
        "\n",
        "# Convert predicted probabilities to class labels\n",
        "y_pred_classes = np.argmax(y_pred, axis=1)\n",
        "y_true_classes = np.argmax(y_test, axis=1)\n",
        "\n",
        "# Compute the confusion matrix\n",
        "cm = confusion_matrix(y_true_classes, y_pred_classes)\n",
        "\n",
        "# Plot confusion matrix\n",
        "plt.figure(figsize=(10, 7))\n",
        "sns.heatmap(cm, annot=True, fmt='d', cmap='Blues', xticklabels=range(10), yticklabels=range(10))\n",
        "plt.title('Confusion Matrix')\n",
        "plt.ylabel('True Label')\n",
        "plt.xlabel('Predicted Label')\n",
        "plt.show()\n",
        "\n",
        "# Print classification report for detailed metrics\n",
        "print(\"Classification Report:\")\n",
        "print(classification_report(y_true_classes, y_pred_classes))\n"
      ],
      "metadata": {
        "colab": {
          "base_uri": "https://localhost:8080/",
          "height": 1000
        },
        "id": "oSWENrBJDOTb",
        "outputId": "ecc818ad-5d5f-48f9-9b69-dfc0f1e5e608"
      },
      "execution_count": 17,
      "outputs": [
        {
          "output_type": "stream",
          "name": "stdout",
          "text": [
            "\u001b[1m313/313\u001b[0m \u001b[32m━━━━━━━━━━━━━━━━━━━━\u001b[0m\u001b[37m\u001b[0m \u001b[1m0s\u001b[0m 1ms/step - accuracy: 0.6553 - loss: 0.9789\n",
            "Test Accuracy: 68.20%\n",
            "\u001b[1m313/313\u001b[0m \u001b[32m━━━━━━━━━━━━━━━━━━━━\u001b[0m\u001b[37m\u001b[0m \u001b[1m1s\u001b[0m 2ms/step\n"
          ]
        },
        {
          "output_type": "display_data",
          "data": {
            "text/plain": [
              "<Figure size 1000x700 with 2 Axes>"
            ],
            "image/png": "[encoded data removed]"
          },
          "metadata": {}
        },
        {
          "output_type": "stream",
          "name": "stdout",
          "text": [
            "Classification Report:\n",
            "              precision    recall  f1-score   support\n",
            "\n",
            "           0       0.73      0.86      0.79       980\n",
            "           1       0.94      0.98      0.96      1135\n",
            "           2       0.48      0.60      0.54      1032\n",
            "           3       0.70      0.66      0.68      1010\n",
            "           4       0.78      0.73      0.76       982\n",
            "           5       0.87      0.11      0.20       892\n",
            "           6       0.93      0.62      0.74       958\n",
            "           7       0.95      0.73      0.83      1028\n",
            "           8       0.35      0.78      0.49       974\n",
            "           9       0.80      0.66      0.72      1009\n",
            "\n",
            "    accuracy                           0.68     10000\n",
            "   macro avg       0.75      0.67      0.67     10000\n",
            "weighted avg       0.76      0.68      0.68     10000\n",
            "\n"
          ]
        }
      ]
    },
    {
      "cell_type": "markdown",
      "source": [
        "**5. Analysis:**\n",
        "\n",
        "o Discuss the strengths and limitations of using an RBF network for this\n",
        "dataset.\n",
        "\n",
        "o How does the number of RBF units affect model performance?"
      ],
      "metadata": {
        "id": "co0wBMSBDUIR"
      }
    },
    {
      "cell_type": "markdown",
      "source": [
        "\n",
        "**Strengths of using an RBF network for this dataset:**\n",
        "- RBF networks can capture non-linear relationships between features (pixel values) and labels (character classes) more effectively than linear models.\n",
        "- They are relatively simple to implement and understand compared to more complex deep learning models.\n",
        "- They can be effective for smaller datasets with fewer training samples.\n",
        "\n",
        "**Limitations of using an RBF network for this dataset:**\n",
        "- Choosing the optimal number of RBF units and the centers can be challenging, requiring careful tuning.\n",
        "- The performance can be sensitive to the choice of the Gaussian kernel's width (gamma).\n",
        "- They may not scale as well as deep learning models for very large and complex datasets.\n",
        "\n",
        "**How does the number of RBF units affect model performance?**\n",
        "- Generally, increasing the number of RBF units can lead to improved accuracy and potentially better capturing complex patterns in the data.\n",
        "- However, this can also increase the risk of overfitting, especially if the dataset is not large enough.\n",
        "- A balance needs to be found to achieve good generalization performance.\n",
        "- Experimenting with different values for the number of RBF units and observing the model's performance on the validation set can help determine the optimal choice.\n",
        "\n",
        "**Further analysis can be performed by:**\n",
        "- Varying the gamma value of the RBFs.\n",
        "- Using different clustering techniques to determine the center values.\n",
        "- Applying feature selection techniques to reduce the dimensionality of the input data.\n"
      ],
      "metadata": {
        "id": "XyMWelyDHwzo"
      }
    }
  ]
}