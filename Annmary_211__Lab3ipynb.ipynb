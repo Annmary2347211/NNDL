{
  "nbformat": 4,
  "nbformat_minor": 0,
  "metadata": {
    "colab": {
      "provenance": [],
      "gpuType": "T4",
      "authorship_tag": "ABX9TyNMDm36q7WLx31YLVJXYFOO",
      "include_colab_link": true
    },
    "kernelspec": {
      "name": "python3",
      "display_name": "Python 3"
    },
    "language_info": {
      "name": "python"
    },
    "accelerator": "GPU"
  },
  "cells": [
    {
      "cell_type": "markdown",
      "metadata": {
        "id": "view-in-github",
        "colab_type": "text"
      },
      "source": [
        "<a href=\"https://colab.research.google.com/github/Annmary2347211/NNDL/blob/main/Annmary_211__Lab3ipynb.ipynb\" target=\"_parent\"><img src=\"https://colab.research.google.com/assets/colab-badge.svg\" alt=\"Open In Colab\"/></a>"
      ]
    },
    {
      "cell_type": "markdown",
      "source": [
        "**1. Data Preprocessing**"
      ],
      "metadata": {
        "id": "UDbu4cpA9iXW"
      }
    },
    {
      "cell_type": "code",
      "source": [
        "import tensorflow as tf\n",
        "from tensorflow.keras.datasets import cifar10\n",
        "from tensorflow.keras.utils import to_categorical\n",
        "from tensorflow.keras.preprocessing.image import ImageDataGenerator"
      ],
      "metadata": {
        "id": "JMFOvf898xhz"
      },
      "execution_count": 3,
      "outputs": []
    },
    {
      "cell_type": "code",
      "source": [
        "# Load CIFAR-10 dataset\n",
        "(x_train, y_train), (x_test, y_test) = cifar10.load_data()\n",
        "\n",
        "# Normalize pixel values between 0 and 1\n",
        "x_train, x_test = x_train / 255.0, x_test / 255.0\n",
        "\n",
        "# Convert labels to one-hot encoding\n",
        "y_train = to_categorical(y_train, 10)\n",
        "y_test = to_categorical(y_test, 10)\n",
        "\n",
        "# Optional: Data Augmentation\n",
        "datagen = ImageDataGenerator(\n",
        "    width_shift_range=0.1,\n",
        "    height_shift_range=0.1,\n",
        "    horizontal_flip=True)\n",
        "datagen.fit(x_train)"
      ],
      "metadata": {
        "id": "XqthbOCR9uer",
        "outputId": "aba18968-4d0e-4b62-d34e-be9e45f2dc43",
        "colab": {
          "base_uri": "https://localhost:8080/"
        }
      },
      "execution_count": 4,
      "outputs": [
        {
          "output_type": "stream",
          "name": "stdout",
          "text": [
            "Downloading data from https://www.cs.toronto.edu/~kriz/cifar-10-python.tar.gz\n",
            "\u001b[1m170498071/170498071\u001b[0m \u001b[32m━━━━━━━━━━━━━━━━━━━━\u001b[0m\u001b[37m\u001b[0m \u001b[1m6s\u001b[0m 0us/step\n"
          ]
        }
      ]
    },
    {
      "cell_type": "markdown",
      "source": [
        "**Report:**\n",
        "\n",
        "\n",
        "*   Normalization: Pixel values are scaled between 0 and 1 to ensure that the model processes inputs efficiently and avoids large gradient values that might hinder learning.\n",
        "\n",
        "*   One-hot encoding: The class labels are transformed to a one-hot format for compatibility with the softmax output layer.\n",
        "\n",
        "\n",
        "*   Data augmentation: Used to increase model robustness by generating new samples through transformations like flips and shifts.\n",
        "\n",
        "\n",
        "\n",
        "\n",
        "\n"
      ],
      "metadata": {
        "id": "VilIpyo69yeq"
      }
    },
    {
      "cell_type": "markdown",
      "source": [
        "**2. Network Architecture Design**"
      ],
      "metadata": {
        "id": "DuaAADsV9_Lc"
      }
    },
    {
      "cell_type": "code",
      "source": [
        "from tensorflow.keras.models import Sequential\n",
        "from tensorflow.keras.layers import Conv2D, MaxPooling2D, Flatten, Dense, Dropout"
      ],
      "metadata": {
        "id": "YDD_MshX-BQw"
      },
      "execution_count": 5,
      "outputs": []
    },
    {
      "cell_type": "code",
      "source": [
        "\n",
        "# Build the CNN model\n",
        "model = Sequential()\n",
        "\n",
        "# Input and Hidden Layers\n",
        "model.add(Conv2D(32, (3, 3), activation='relu', input_shape=(32, 32, 3)))\n",
        "model.add(MaxPooling2D((2, 2)))\n",
        "model.add(Conv2D(64, (3, 3), activation='relu'))\n",
        "model.add(MaxPooling2D((2, 2)))\n",
        "model.add(Conv2D(128, (3, 3), activation='relu'))\n",
        "model.add(MaxPooling2D((2, 2)))\n",
        "\n",
        "# Fully connected layers\n",
        "model.add(Flatten())\n",
        "model.add(Dense(64, activation='relu'))\n",
        "model.add(Dropout(0.5))  # Dropout to prevent overfitting\n",
        "\n",
        "# Output Layer\n",
        "model.add(Dense(10, activation='softmax'))\n",
        "\n",
        "# Compile the model\n",
        "model.compile(optimizer='adam',\n",
        "              loss='categorical_crossentropy',\n",
        "              metrics=['accuracy'])"
      ],
      "metadata": {
        "id": "BQk8zkVJ-Gpi",
        "outputId": "2d2b4783-883e-4f2c-ab9c-d5425ea401dd",
        "colab": {
          "base_uri": "https://localhost:8080/"
        }
      },
      "execution_count": 6,
      "outputs": [
        {
          "output_type": "stream",
          "name": "stderr",
          "text": [
            "/usr/local/lib/python3.10/dist-packages/keras/src/layers/convolutional/base_conv.py:107: UserWarning: Do not pass an `input_shape`/`input_dim` argument to a layer. When using Sequential models, prefer using an `Input(shape)` object as the first layer in the model instead.\n",
            "  super().__init__(activity_regularizer=activity_regularizer, **kwargs)\n"
          ]
        }
      ]
    },
    {
      "cell_type": "markdown",
      "source": [
        "**Report:**\n",
        "\n",
        "\n",
        "*   Justification: We use 3 convolutional layers with increasing filter sizes (32, 64, 128) to extract spatial hierarchies from the images. MaxPooling reduces the spatial dimensions, lowering computational cost while retaining essential information. Dropout is added to avoid overfitting by randomly turning off neurons during training.\n",
        "\n",
        "*   Output layer: Uses 10 neurons (one for each class) with softmax activation to provide a probability distribution over the class labels.\n",
        "\n",
        "\n"
      ],
      "metadata": {
        "id": "nKXAwim2-KSo"
      }
    },
    {
      "cell_type": "markdown",
      "source": [
        "**3. Activation Functions**"
      ],
      "metadata": {
        "id": "2kYvUg7--TKU"
      }
    },
    {
      "cell_type": "code",
      "source": [
        "# Build the CNN model with both ReLU and tanh\n",
        "model = Sequential()\n",
        "\n",
        "# Input and Hidden Layers\n",
        "model.add(Conv2D(32, (3, 3), activation='relu', input_shape=(32, 32, 3)))\n",
        "model.add(MaxPooling2D((2, 2)))\n",
        "model.add(Conv2D(64, (3, 3), activation='tanh'))  # Using tanh in this layer\n",
        "model.add(MaxPooling2D((2, 2)))\n",
        "model.add(Conv2D(128, (3, 3), activation='relu'))\n",
        "model.add(MaxPooling2D((2, 2)))\n",
        "\n",
        "# Fully connected layers\n",
        "model.add(Flatten())\n",
        "model.add(Dense(64, activation='relu'))\n",
        "model.add(Dropout(0.5))  # Dropout to prevent overfitting\n",
        "\n",
        "# Output Layer\n",
        "model.add(Dense(10, activation='softmax'))\n",
        "\n",
        "# Compile the model\n",
        "model.compile(optimizer='adam',\n",
        "              loss='categorical_crossentropy',\n",
        "              metrics=['accuracy'])\n",
        "\n",
        "\n"
      ],
      "metadata": {
        "id": "SgIfq_bM_Xg-"
      },
      "execution_count": 7,
      "outputs": []
    },
    {
      "cell_type": "markdown",
      "source": [
        "\n",
        "**Report:**\n",
        "\n",
        "\n",
        "\n",
        "*   ReLU: Rectified Linear Unit (ReLU) is chosen as the activation function\n",
        "for most hidden layers. It is known for its simplicity and efficiency in terms of computation and is less prone to vanishing gradients compared to sigmoid or tanh. It introduces non-linearity, allowing the model to learn complex patterns. In backpropagation, ReLU gradients are either 0 or 1, making it straightforward to calculate and update weights.\n",
        "*   Tanh: Hyperbolic tangent (tanh) is another suitable activation function. It's similar to sigmoid but centered around 0, which can sometimes improve learning. It also introduces non-linearity and helps in capturing complex features. Similar to ReLU, it can also suffer from vanishing gradients if the input is too large or too small.\n",
        "\n",
        "\n",
        "\n",
        "\n",
        "\n",
        "\n"
      ],
      "metadata": {
        "id": "taPD1PFJ_dNM"
      }
    },
    {
      "cell_type": "markdown",
      "source": [
        "**4. Loss Function and Optimizer**\n"
      ],
      "metadata": {
        "id": "270H9g59_zeB"
      }
    },
    {
      "cell_type": "code",
      "source": [
        "# Compile model with optimizer and loss function\n",
        "model.compile(optimizer='adam',\n",
        "              loss='categorical_crossentropy',\n",
        "              metrics=['accuracy'])\n"
      ],
      "metadata": {
        "id": "kgAOHQAw_o-1"
      },
      "execution_count": 8,
      "outputs": []
    },
    {
      "cell_type": "markdown",
      "source": [
        "**Report:**\n",
        "\n",
        "\n",
        "*   Categorical Cross-Entropy: The most appropriate loss function for multi-class classification tasks as it measures the performance of the classifier by comparing predicted probabilities with actual one-hot encoded labels.\n",
        "\n",
        "*   Mean Squared Error (MSE): Though it can be used for classification, it's less suited than categorical cross-entropy because it doesn’t account for the probabilistic nature of classification.\n",
        "\n",
        "\n",
        "*   Adam Optimizer: Chosen because it combines the advantages of both RMSprop and Stochastic Gradient Descent (SGD), making it suitable for faster convergence. It adjusts the learning rate during training, ensuring smoother updates.\n",
        "\n",
        "\n",
        "\n",
        "\n"
      ],
      "metadata": {
        "id": "pPWiPMkFADOZ"
      }
    },
    {
      "cell_type": "markdown",
      "source": [
        "**Question:**\n",
        "\n",
        "*o How does the choice of optimizer and learning rate influence the\n",
        "convergence of the network? How would you adjust the learning rate if the\n",
        "model is not converging properly?*\n",
        "\n",
        "The choice of optimizer and learning rate directly affects the speed and stability of convergence. Adam typically offers faster and more stable convergence due to adaptive learning rates, while SGD can be slower. If the model isn't converging, lower the learning rate to prevent overshooting or increase it if progress is too slow. You can also implement learning rate scheduling for smoother adjustments."
      ],
      "metadata": {
        "id": "ETGWZUkHMPay"
      }
    },
    {
      "cell_type": "markdown",
      "source": [
        "**5. Training the Model**"
      ],
      "metadata": {
        "id": "myd3EOD6ADQw"
      }
    },
    {
      "cell_type": "code",
      "source": [
        "# Train the model\n",
        "history = model.fit(datagen.flow(x_train, y_train, batch_size=64),\n",
        "                    epochs=50,\n",
        "                    validation_data=(x_test, y_test))\n"
      ],
      "metadata": {
        "id": "zHzZaD7rAW5p",
        "outputId": "8608577a-c72f-4578-c117-d9d5809dc49d",
        "colab": {
          "base_uri": "https://localhost:8080/"
        }
      },
      "execution_count": 9,
      "outputs": [
        {
          "metadata": {
            "tags": null
          },
          "name": "stdout",
          "output_type": "stream",
          "text": [
            "Epoch 1/50\n"
          ]
        },
        {
          "metadata": {
            "tags": null
          },
          "name": "stderr",
          "output_type": "stream",
          "text": [
            "/usr/local/lib/python3.10/dist-packages/keras/src/trainers/data_adapters/py_dataset_adapter.py:121: UserWarning: Your `PyDataset` class should call `super().__init__(**kwargs)` in its constructor. `**kwargs` can include `workers`, `use_multiprocessing`, `max_queue_size`. Do not pass these arguments to `fit()`, as they will be ignored.\n",
            "  self._warn_if_super_not_called()\n"
          ]
        },
        {
          "output_type": "stream",
          "name": "stdout",
          "text": [
            "\u001b[1m782/782\u001b[0m \u001b[32m━━━━━━━━━━━━━━━━━━━━\u001b[0m\u001b[37m\u001b[0m \u001b[1m44s\u001b[0m 48ms/step - accuracy: 0.2676 - loss: 1.9686 - val_accuracy: 0.4724 - val_loss: 1.4280\n",
            "Epoch 2/50\n",
            "\u001b[1m782/782\u001b[0m \u001b[32m━━━━━━━━━━━━━━━━━━━━\u001b[0m\u001b[37m\u001b[0m \u001b[1m35s\u001b[0m 44ms/step - accuracy: 0.4429 - loss: 1.5273 - val_accuracy: 0.5592 - val_loss: 1.2341\n",
            "Epoch 3/50\n",
            "\u001b[1m782/782\u001b[0m \u001b[32m━━━━━━━━━━━━━━━━━━━━\u001b[0m\u001b[37m\u001b[0m \u001b[1m35s\u001b[0m 44ms/step - accuracy: 0.5068 - loss: 1.3844 - val_accuracy: 0.6000 - val_loss: 1.1308\n",
            "Epoch 4/50\n",
            "\u001b[1m782/782\u001b[0m \u001b[32m━━━━━━━━━━━━━━━━━━━━\u001b[0m\u001b[37m\u001b[0m \u001b[1m33s\u001b[0m 42ms/step - accuracy: 0.5378 - loss: 1.3098 - val_accuracy: 0.6222 - val_loss: 1.0603\n",
            "Epoch 5/50\n",
            "\u001b[1m782/782\u001b[0m \u001b[32m━━━━━━━━━━━━━━━━━━━━\u001b[0m\u001b[37m\u001b[0m \u001b[1m35s\u001b[0m 44ms/step - accuracy: 0.5580 - loss: 1.2514 - val_accuracy: 0.6322 - val_loss: 1.0324\n",
            "Epoch 6/50\n",
            "\u001b[1m782/782\u001b[0m \u001b[32m━━━━━━━━━━━━━━━━━━━━\u001b[0m\u001b[37m\u001b[0m \u001b[1m34s\u001b[0m 43ms/step - accuracy: 0.5870 - loss: 1.1829 - val_accuracy: 0.6616 - val_loss: 0.9737\n",
            "Epoch 7/50\n",
            "\u001b[1m782/782\u001b[0m \u001b[32m━━━━━━━━━━━━━━━━━━━━\u001b[0m\u001b[37m\u001b[0m \u001b[1m41s\u001b[0m 43ms/step - accuracy: 0.6013 - loss: 1.1471 - val_accuracy: 0.6409 - val_loss: 0.9989\n",
            "Epoch 8/50\n",
            "\u001b[1m782/782\u001b[0m \u001b[32m━━━━━━━━━━━━━━━━━━━━\u001b[0m\u001b[37m\u001b[0m \u001b[1m41s\u001b[0m 44ms/step - accuracy: 0.6200 - loss: 1.0961 - val_accuracy: 0.6872 - val_loss: 0.9013\n",
            "Epoch 9/50\n",
            "\u001b[1m782/782\u001b[0m \u001b[32m━━━━━━━━━━━━━━━━━━━━\u001b[0m\u001b[37m\u001b[0m \u001b[1m34s\u001b[0m 43ms/step - accuracy: 0.6384 - loss: 1.0611 - val_accuracy: 0.6938 - val_loss: 0.8727\n",
            "Epoch 10/50\n",
            "\u001b[1m782/782\u001b[0m \u001b[32m━━━━━━━━━━━━━━━━━━━━\u001b[0m\u001b[37m\u001b[0m \u001b[1m41s\u001b[0m 43ms/step - accuracy: 0.6418 - loss: 1.0362 - val_accuracy: 0.7026 - val_loss: 0.8519\n",
            "Epoch 11/50\n",
            "\u001b[1m782/782\u001b[0m \u001b[32m━━━━━━━━━━━━━━━━━━━━\u001b[0m\u001b[37m\u001b[0m \u001b[1m41s\u001b[0m 43ms/step - accuracy: 0.6518 - loss: 1.0131 - val_accuracy: 0.7154 - val_loss: 0.8204\n",
            "Epoch 12/50\n",
            "\u001b[1m782/782\u001b[0m \u001b[32m━━━━━━━━━━━━━━━━━━━━\u001b[0m\u001b[37m\u001b[0m \u001b[1m32s\u001b[0m 40ms/step - accuracy: 0.6611 - loss: 0.9894 - val_accuracy: 0.7142 - val_loss: 0.8266\n",
            "Epoch 13/50\n",
            "\u001b[1m782/782\u001b[0m \u001b[32m━━━━━━━━━━━━━━━━━━━━\u001b[0m\u001b[37m\u001b[0m \u001b[1m34s\u001b[0m 43ms/step - accuracy: 0.6647 - loss: 0.9751 - val_accuracy: 0.7205 - val_loss: 0.8096\n",
            "Epoch 14/50\n",
            "\u001b[1m782/782\u001b[0m \u001b[32m━━━━━━━━━━━━━━━━━━━━\u001b[0m\u001b[37m\u001b[0m \u001b[1m40s\u001b[0m 42ms/step - accuracy: 0.6726 - loss: 0.9552 - val_accuracy: 0.7213 - val_loss: 0.8020\n",
            "Epoch 15/50\n",
            "\u001b[1m782/782\u001b[0m \u001b[32m━━━━━━━━━━━━━━━━━━━━\u001b[0m\u001b[37m\u001b[0m \u001b[1m34s\u001b[0m 44ms/step - accuracy: 0.6824 - loss: 0.9339 - val_accuracy: 0.7237 - val_loss: 0.7965\n",
            "Epoch 16/50\n",
            "\u001b[1m782/782\u001b[0m \u001b[32m━━━━━━━━━━━━━━━━━━━━\u001b[0m\u001b[37m\u001b[0m \u001b[1m41s\u001b[0m 43ms/step - accuracy: 0.6912 - loss: 0.9131 - val_accuracy: 0.7252 - val_loss: 0.7969\n",
            "Epoch 17/50\n",
            "\u001b[1m782/782\u001b[0m \u001b[32m━━━━━━━━━━━━━━━━━━━━\u001b[0m\u001b[37m\u001b[0m \u001b[1m39s\u001b[0m 41ms/step - accuracy: 0.6922 - loss: 0.9022 - val_accuracy: 0.7261 - val_loss: 0.7877\n",
            "Epoch 18/50\n",
            "\u001b[1m782/782\u001b[0m \u001b[32m━━━━━━━━━━━━━━━━━━━━\u001b[0m\u001b[37m\u001b[0m \u001b[1m41s\u001b[0m 42ms/step - accuracy: 0.6957 - loss: 0.8941 - val_accuracy: 0.7507 - val_loss: 0.7161\n",
            "Epoch 19/50\n",
            "\u001b[1m782/782\u001b[0m \u001b[32m━━━━━━━━━━━━━━━━━━━━\u001b[0m\u001b[37m\u001b[0m \u001b[1m41s\u001b[0m 42ms/step - accuracy: 0.6969 - loss: 0.8893 - val_accuracy: 0.7367 - val_loss: 0.7666\n",
            "Epoch 20/50\n",
            "\u001b[1m782/782\u001b[0m \u001b[32m━━━━━━━━━━━━━━━━━━━━\u001b[0m\u001b[37m\u001b[0m \u001b[1m41s\u001b[0m 42ms/step - accuracy: 0.7026 - loss: 0.8710 - val_accuracy: 0.7424 - val_loss: 0.7493\n",
            "Epoch 21/50\n",
            "\u001b[1m782/782\u001b[0m \u001b[32m━━━━━━━━━━━━━━━━━━━━\u001b[0m\u001b[37m\u001b[0m \u001b[1m40s\u001b[0m 40ms/step - accuracy: 0.7075 - loss: 0.8540 - val_accuracy: 0.7403 - val_loss: 0.7804\n",
            "Epoch 22/50\n",
            "\u001b[1m782/782\u001b[0m \u001b[32m━━━━━━━━━━━━━━━━━━━━\u001b[0m\u001b[37m\u001b[0m \u001b[1m41s\u001b[0m 40ms/step - accuracy: 0.7121 - loss: 0.8510 - val_accuracy: 0.7432 - val_loss: 0.7509\n",
            "Epoch 23/50\n",
            "\u001b[1m782/782\u001b[0m \u001b[32m━━━━━━━━━━━━━━━━━━━━\u001b[0m\u001b[37m\u001b[0m \u001b[1m41s\u001b[0m 41ms/step - accuracy: 0.7104 - loss: 0.8622 - val_accuracy: 0.7432 - val_loss: 0.7493\n",
            "Epoch 24/50\n",
            "\u001b[1m782/782\u001b[0m \u001b[32m━━━━━━━━━━━━━━━━━━━━\u001b[0m\u001b[37m\u001b[0m \u001b[1m31s\u001b[0m 39ms/step - accuracy: 0.7227 - loss: 0.8137 - val_accuracy: 0.7513 - val_loss: 0.7418\n",
            "Epoch 25/50\n",
            "\u001b[1m782/782\u001b[0m \u001b[32m━━━━━━━━━━━━━━━━━━━━\u001b[0m\u001b[37m\u001b[0m \u001b[1m42s\u001b[0m 40ms/step - accuracy: 0.7190 - loss: 0.8232 - val_accuracy: 0.7507 - val_loss: 0.7606\n",
            "Epoch 26/50\n",
            "\u001b[1m782/782\u001b[0m \u001b[32m━━━━━━━━━━━━━━━━━━━━\u001b[0m\u001b[37m\u001b[0m \u001b[1m31s\u001b[0m 39ms/step - accuracy: 0.7256 - loss: 0.8113 - val_accuracy: 0.7563 - val_loss: 0.7289\n",
            "Epoch 27/50\n",
            "\u001b[1m782/782\u001b[0m \u001b[32m━━━━━━━━━━━━━━━━━━━━\u001b[0m\u001b[37m\u001b[0m \u001b[1m42s\u001b[0m 40ms/step - accuracy: 0.7293 - loss: 0.7958 - val_accuracy: 0.7640 - val_loss: 0.6982\n",
            "Epoch 28/50\n",
            "\u001b[1m782/782\u001b[0m \u001b[32m━━━━━━━━━━━━━━━━━━━━\u001b[0m\u001b[37m\u001b[0m \u001b[1m41s\u001b[0m 40ms/step - accuracy: 0.7346 - loss: 0.7950 - val_accuracy: 0.7575 - val_loss: 0.7177\n",
            "Epoch 29/50\n",
            "\u001b[1m782/782\u001b[0m \u001b[32m━━━━━━━━━━━━━━━━━━━━\u001b[0m\u001b[37m\u001b[0m \u001b[1m31s\u001b[0m 39ms/step - accuracy: 0.7292 - loss: 0.7984 - val_accuracy: 0.7648 - val_loss: 0.6993\n",
            "Epoch 30/50\n",
            "\u001b[1m782/782\u001b[0m \u001b[32m━━━━━━━━━━━━━━━━━━━━\u001b[0m\u001b[37m\u001b[0m \u001b[1m43s\u001b[0m 41ms/step - accuracy: 0.7305 - loss: 0.7870 - val_accuracy: 0.7699 - val_loss: 0.6793\n",
            "Epoch 31/50\n",
            "\u001b[1m782/782\u001b[0m \u001b[32m━━━━━━━━━━━━━━━━━━━━\u001b[0m\u001b[37m\u001b[0m \u001b[1m32s\u001b[0m 40ms/step - accuracy: 0.7356 - loss: 0.7748 - val_accuracy: 0.7674 - val_loss: 0.7095\n",
            "Epoch 32/50\n",
            "\u001b[1m782/782\u001b[0m \u001b[32m━━━━━━━━━━━━━━━━━━━━\u001b[0m\u001b[37m\u001b[0m \u001b[1m42s\u001b[0m 42ms/step - accuracy: 0.7395 - loss: 0.7743 - val_accuracy: 0.7768 - val_loss: 0.6678\n",
            "Epoch 33/50\n",
            "\u001b[1m782/782\u001b[0m \u001b[32m━━━━━━━━━━━━━━━━━━━━\u001b[0m\u001b[37m\u001b[0m \u001b[1m32s\u001b[0m 41ms/step - accuracy: 0.7420 - loss: 0.7712 - val_accuracy: 0.7720 - val_loss: 0.6742\n",
            "Epoch 34/50\n",
            "\u001b[1m782/782\u001b[0m \u001b[32m━━━━━━━━━━━━━━━━━━━━\u001b[0m\u001b[37m\u001b[0m \u001b[1m33s\u001b[0m 41ms/step - accuracy: 0.7410 - loss: 0.7642 - val_accuracy: 0.7654 - val_loss: 0.7007\n",
            "Epoch 35/50\n",
            "\u001b[1m782/782\u001b[0m \u001b[32m━━━━━━━━━━━━━━━━━━━━\u001b[0m\u001b[37m\u001b[0m \u001b[1m32s\u001b[0m 40ms/step - accuracy: 0.7450 - loss: 0.7512 - val_accuracy: 0.7778 - val_loss: 0.6708\n",
            "Epoch 36/50\n",
            "\u001b[1m782/782\u001b[0m \u001b[32m━━━━━━━━━━━━━━━━━━━━\u001b[0m\u001b[37m\u001b[0m \u001b[1m35s\u001b[0m 44ms/step - accuracy: 0.7456 - loss: 0.7599 - val_accuracy: 0.7703 - val_loss: 0.6680\n",
            "Epoch 37/50\n",
            "\u001b[1m782/782\u001b[0m \u001b[32m━━━━━━━━━━━━━━━━━━━━\u001b[0m\u001b[37m\u001b[0m \u001b[1m34s\u001b[0m 43ms/step - accuracy: 0.7549 - loss: 0.7329 - val_accuracy: 0.7735 - val_loss: 0.6732\n",
            "Epoch 38/50\n",
            "\u001b[1m782/782\u001b[0m \u001b[32m━━━━━━━━━━━━━━━━━━━━\u001b[0m\u001b[37m\u001b[0m \u001b[1m33s\u001b[0m 42ms/step - accuracy: 0.7498 - loss: 0.7452 - val_accuracy: 0.7712 - val_loss: 0.6744\n",
            "Epoch 39/50\n",
            "\u001b[1m782/782\u001b[0m \u001b[32m━━━━━━━━━━━━━━━━━━━━\u001b[0m\u001b[37m\u001b[0m \u001b[1m34s\u001b[0m 43ms/step - accuracy: 0.7520 - loss: 0.7393 - val_accuracy: 0.7789 - val_loss: 0.6653\n",
            "Epoch 40/50\n",
            "\u001b[1m782/782\u001b[0m \u001b[32m━━━━━━━━━━━━━━━━━━━━\u001b[0m\u001b[37m\u001b[0m \u001b[1m43s\u001b[0m 45ms/step - accuracy: 0.7522 - loss: 0.7341 - val_accuracy: 0.7854 - val_loss: 0.6432\n",
            "Epoch 41/50\n",
            "\u001b[1m782/782\u001b[0m \u001b[32m━━━━━━━━━━━━━━━━━━━━\u001b[0m\u001b[37m\u001b[0m \u001b[1m42s\u001b[0m 46ms/step - accuracy: 0.7554 - loss: 0.7195 - val_accuracy: 0.7837 - val_loss: 0.6540\n",
            "Epoch 42/50\n",
            "\u001b[1m782/782\u001b[0m \u001b[32m━━━━━━━━━━━━━━━━━━━━\u001b[0m\u001b[37m\u001b[0m \u001b[1m35s\u001b[0m 44ms/step - accuracy: 0.7536 - loss: 0.7369 - val_accuracy: 0.7792 - val_loss: 0.6704\n",
            "Epoch 43/50\n",
            "\u001b[1m782/782\u001b[0m \u001b[32m━━━━━━━━━━━━━━━━━━━━\u001b[0m\u001b[37m\u001b[0m \u001b[1m41s\u001b[0m 44ms/step - accuracy: 0.7622 - loss: 0.7044 - val_accuracy: 0.7761 - val_loss: 0.6784\n",
            "Epoch 44/50\n",
            "\u001b[1m782/782\u001b[0m \u001b[32m━━━━━━━━━━━━━━━━━━━━\u001b[0m\u001b[37m\u001b[0m \u001b[1m35s\u001b[0m 44ms/step - accuracy: 0.7619 - loss: 0.7092 - val_accuracy: 0.7817 - val_loss: 0.6505\n",
            "Epoch 45/50\n",
            "\u001b[1m782/782\u001b[0m \u001b[32m━━━━━━━━━━━━━━━━━━━━\u001b[0m\u001b[37m\u001b[0m \u001b[1m42s\u001b[0m 46ms/step - accuracy: 0.7621 - loss: 0.7104 - val_accuracy: 0.7745 - val_loss: 0.6730\n",
            "Epoch 46/50\n",
            "\u001b[1m782/782\u001b[0m \u001b[32m━━━━━━━━━━━━━━━━━━━━\u001b[0m\u001b[37m\u001b[0m \u001b[1m35s\u001b[0m 44ms/step - accuracy: 0.7644 - loss: 0.7030 - val_accuracy: 0.7787 - val_loss: 0.6605\n",
            "Epoch 47/50\n",
            "\u001b[1m782/782\u001b[0m \u001b[32m━━━━━━━━━━━━━━━━━━━━\u001b[0m\u001b[37m\u001b[0m \u001b[1m42s\u001b[0m 45ms/step - accuracy: 0.7655 - loss: 0.6901 - val_accuracy: 0.7891 - val_loss: 0.6341\n",
            "Epoch 48/50\n",
            "\u001b[1m782/782\u001b[0m \u001b[32m━━━━━━━━━━━━━━━━━━━━\u001b[0m\u001b[37m\u001b[0m \u001b[1m33s\u001b[0m 43ms/step - accuracy: 0.7623 - loss: 0.7031 - val_accuracy: 0.7810 - val_loss: 0.6581\n",
            "Epoch 49/50\n",
            "\u001b[1m782/782\u001b[0m \u001b[32m━━━━━━━━━━━━━━━━━━━━\u001b[0m\u001b[37m\u001b[0m \u001b[1m42s\u001b[0m 43ms/step - accuracy: 0.7680 - loss: 0.6947 - val_accuracy: 0.7835 - val_loss: 0.6628\n",
            "Epoch 50/50\n",
            "\u001b[1m782/782\u001b[0m \u001b[32m━━━━━━━━━━━━━━━━━━━━\u001b[0m\u001b[37m\u001b[0m \u001b[1m33s\u001b[0m 42ms/step - accuracy: 0.7636 - loss: 0.7048 - val_accuracy: 0.7768 - val_loss: 0.6788\n"
          ]
        }
      ]
    },
    {
      "cell_type": "markdown",
      "source": [
        "**Report:**\n",
        "\n",
        "\n",
        "*   Training: The model is trained over 50 epochs with a batch size of 64, using data augmentation for improved generalization.\n",
        "\n",
        "*   Validation: The accuracy and loss are tracked on both training and test datasets to monitor overfitting.\n",
        "\n",
        "\n"
      ],
      "metadata": {
        "id": "8kQvhFYIFH9O"
      }
    },
    {
      "cell_type": "markdown",
      "source": [
        "**6. Model Evaluation**"
      ],
      "metadata": {
        "id": "UEgj71AeFbhF"
      }
    },
    {
      "cell_type": "markdown",
      "source": [
        "**Question:**\n",
        "\n",
        "*o How does backpropagation update the weights in each layer, and what\n",
        "role does the learning rate play in this process?*\n",
        "\n",
        "\n",
        "Backpropagation updates the weights in each layer by computing the gradient of the loss function with respect to each weight and adjusting the weights in the opposite direction of the gradient to minimize the loss. The learning rate controls the size of these weight updates—too high a learning rate may cause the model to overshoot the optimal point, while too low a learning rate results in slow convergence."
      ],
      "metadata": {
        "id": "vb4Xj4LVu2kj"
      }
    },
    {
      "cell_type": "code",
      "source": [
        "from sklearn.metrics import classification_report, confusion_matrix\n",
        "import numpy as np\n",
        "\n",
        "# Evaluate the model on test data\n",
        "test_loss, test_acc = model.evaluate(x_test, y_test)\n",
        "\n",
        "# Generate predictions\n",
        "y_pred = model.predict(x_test)\n",
        "y_pred_classes = np.argmax(y_pred, axis=1)\n",
        "y_true = np.argmax(y_test, axis=1)\n",
        "\n",
        "# Classification report\n",
        "print(classification_report(y_true, y_pred_classes))\n",
        "\n",
        "# Confusion matrix\n",
        "print(confusion_matrix(y_true, y_pred_classes))\n"
      ],
      "metadata": {
        "id": "8g5zUQRfFgMz",
        "outputId": "2e1bde19-5413-4cd7-d24b-4e0716d9a170",
        "colab": {
          "base_uri": "https://localhost:8080/"
        }
      },
      "execution_count": 10,
      "outputs": [
        {
          "output_type": "stream",
          "name": "stdout",
          "text": [
            "\u001b[1m313/313\u001b[0m \u001b[32m━━━━━━━━━━━━━━━━━━━━\u001b[0m\u001b[37m\u001b[0m \u001b[1m1s\u001b[0m 2ms/step - accuracy: 0.7782 - loss: 0.6775\n",
            "\u001b[1m313/313\u001b[0m \u001b[32m━━━━━━━━━━━━━━━━━━━━\u001b[0m\u001b[37m\u001b[0m \u001b[1m2s\u001b[0m 4ms/step\n",
            "              precision    recall  f1-score   support\n",
            "\n",
            "           0       0.73      0.85      0.78      1000\n",
            "           1       0.84      0.94      0.89      1000\n",
            "           2       0.80      0.62      0.70      1000\n",
            "           3       0.65      0.57      0.61      1000\n",
            "           4       0.80      0.69      0.74      1000\n",
            "           5       0.76      0.67      0.71      1000\n",
            "           6       0.68      0.93      0.78      1000\n",
            "           7       0.83      0.83      0.83      1000\n",
            "           8       0.90      0.81      0.85      1000\n",
            "           9       0.83      0.86      0.85      1000\n",
            "\n",
            "    accuracy                           0.78     10000\n",
            "   macro avg       0.78      0.78      0.77     10000\n",
            "weighted avg       0.78      0.78      0.77     10000\n",
            "\n",
            "[[850  22  15  13   3   3   8  11  32  43]\n",
            " [  6 940   2   1   1   4   6   0  12  28]\n",
            " [ 91   7 618  38  45  47 106  27  11  10]\n",
            " [ 30  18  34 567  42 107 136  29  13  24]\n",
            " [ 27   4  45  46 691  22 104  51   6   4]\n",
            " [ 15   5  26 137  34 673  56  42   2  10]\n",
            " [  6   2  13  27   8   5 925   8   3   3]\n",
            " [ 18   2  14  33  30  27  19 834   2  21]\n",
            " [105  32   4   7   5   1   3   3 809  31]\n",
            " [ 20  85   5   3   0   1   7   5  13 861]]\n"
          ]
        }
      ]
    },
    {
      "cell_type": "code",
      "source": [
        "import matplotlib.pyplot as plt\n",
        "import seaborn as sns\n",
        "\n",
        "cm = confusion_matrix(y_true, y_pred_classes)\n",
        "\n",
        "# Visualize the confusion matrix using seaborn\n",
        "plt.figure(figsize=(10, 8))\n",
        "sns.heatmap(cm, annot=True, fmt='d', cmap='Blues')\n",
        "plt.title('Confusion Matrix')\n",
        "plt.xlabel('Predicted Label')\n",
        "plt.ylabel('True Label')\n",
        "plt.show()\n"
      ],
      "metadata": {
        "id": "0BR-o-4dJpb-",
        "outputId": "2d929177-d4eb-42ae-9dc0-c969d8f3dbd6",
        "colab": {
          "base_uri": "https://localhost:8080/",
          "height": 718
        }
      },
      "execution_count": 11,
      "outputs": [
        {
          "output_type": "display_data",
          "data": {
            "text/plain": [
              "<Figure size 1000x800 with 2 Axes>"
            ],
            "image/png": "[encoded data removed]"
          },
          "metadata": {}
        }
      ]
    },
    {
      "cell_type": "markdown",
      "source": [
        "**Question:**\n",
        "\n",
        "*o How can you further improve model performance if the accuracy is low?*\n",
        "\n",
        "\n",
        "1.   Data Augmentation: Apply techniques like random flips, rotations, and shifts to create a more diverse training dataset.\n",
        "2.   Adjust Network Architecture: Increase the depth or width of the network by adding more layers or neurons, or experiment with different architectures like ResNet.\n",
        "3.   Regularization: Use dropout, L2 regularization, or batch normalization to prevent overfitting.\n",
        "4.   Tune Hyperparameters: Experiment with learning rate, batch size, and number of epochs.\n",
        "\n",
        "\n",
        "\n"
      ],
      "metadata": {
        "id": "Gf2K6L0BvILL"
      }
    },
    {
      "cell_type": "markdown",
      "source": [
        "**7. Optimization Strategies**"
      ],
      "metadata": {
        "id": "_fAop6ASFpv4"
      }
    },
    {
      "cell_type": "code",
      "source": [
        "# Early stopping to prevent overfitting\n",
        "from tensorflow.keras.callbacks import EarlyStopping, ReduceLROnPlateau\n",
        "\n",
        "# Early stopping callback\n",
        "early_stopping = EarlyStopping(monitor='val_loss', patience=10, restore_best_weights=True)\n",
        "\n",
        "# Learning rate scheduler\n",
        "reduce_lr = ReduceLROnPlateau(monitor='val_loss', factor=0.2, patience=5, min_lr=0.001)\n",
        "\n",
        "# Train with callbacks\n",
        "history = model.fit(datagen.flow(x_train, y_train, batch_size=64),\n",
        "                    epochs=50,\n",
        "                    validation_data=(x_test, y_test),\n",
        "                    callbacks=[early_stopping, reduce_lr])\n"
      ],
      "metadata": {
        "id": "sxKTtVKQFxuS",
        "outputId": "e30cc20c-7f48-496f-b7aa-e7fec6812851",
        "colab": {
          "base_uri": "https://localhost:8080/"
        }
      },
      "execution_count": 12,
      "outputs": [
        {
          "output_type": "stream",
          "name": "stdout",
          "text": [
            "Epoch 1/50\n"
          ]
        },
        {
          "output_type": "stream",
          "name": "stderr",
          "text": [
            "/usr/local/lib/python3.10/dist-packages/keras/src/trainers/data_adapters/py_dataset_adapter.py:121: UserWarning: Your `PyDataset` class should call `super().__init__(**kwargs)` in its constructor. `**kwargs` can include `workers`, `use_multiprocessing`, `max_queue_size`. Do not pass these arguments to `fit()`, as they will be ignored.\n",
            "  self._warn_if_super_not_called()\n"
          ]
        },
        {
          "output_type": "stream",
          "name": "stdout",
          "text": [
            "\u001b[1m782/782\u001b[0m \u001b[32m━━━━━━━━━━━━━━━━━━━━\u001b[0m\u001b[37m\u001b[0m \u001b[1m34s\u001b[0m 43ms/step - accuracy: 0.7656 - loss: 0.6990 - val_accuracy: 0.7880 - val_loss: 0.6250 - learning_rate: 0.0010\n",
            "Epoch 2/50\n",
            "\u001b[1m782/782\u001b[0m \u001b[32m━━━━━━━━━━━━━━━━━━━━\u001b[0m\u001b[37m\u001b[0m \u001b[1m42s\u001b[0m 44ms/step - accuracy: 0.7673 - loss: 0.6863 - val_accuracy: 0.7852 - val_loss: 0.6324 - learning_rate: 0.0010\n",
            "Epoch 3/50\n",
            "\u001b[1m782/782\u001b[0m \u001b[32m━━━━━━━━━━━━━━━━━━━━\u001b[0m\u001b[37m\u001b[0m \u001b[1m32s\u001b[0m 41ms/step - accuracy: 0.7719 - loss: 0.6787 - val_accuracy: 0.7864 - val_loss: 0.6378 - learning_rate: 0.0010\n",
            "Epoch 4/50\n",
            "\u001b[1m782/782\u001b[0m \u001b[32m━━━━━━━━━━━━━━━━━━━━\u001b[0m\u001b[37m\u001b[0m \u001b[1m33s\u001b[0m 42ms/step - accuracy: 0.7760 - loss: 0.6698 - val_accuracy: 0.7882 - val_loss: 0.6358 - learning_rate: 0.0010\n",
            "Epoch 5/50\n",
            "\u001b[1m782/782\u001b[0m \u001b[32m━━━━━━━━━━━━━━━━━━━━\u001b[0m\u001b[37m\u001b[0m \u001b[1m34s\u001b[0m 43ms/step - accuracy: 0.7686 - loss: 0.6779 - val_accuracy: 0.7901 - val_loss: 0.6335 - learning_rate: 0.0010\n",
            "Epoch 6/50\n",
            "\u001b[1m782/782\u001b[0m \u001b[32m━━━━━━━━━━━━━━━━━━━━\u001b[0m\u001b[37m\u001b[0m \u001b[1m42s\u001b[0m 44ms/step - accuracy: 0.7704 - loss: 0.6824 - val_accuracy: 0.7836 - val_loss: 0.6465 - learning_rate: 0.0010\n",
            "Epoch 7/50\n",
            "\u001b[1m782/782\u001b[0m \u001b[32m━━━━━━━━━━━━━━━━━━━━\u001b[0m\u001b[37m\u001b[0m \u001b[1m35s\u001b[0m 44ms/step - accuracy: 0.7750 - loss: 0.6640 - val_accuracy: 0.7840 - val_loss: 0.6421 - learning_rate: 0.0010\n",
            "Epoch 8/50\n",
            "\u001b[1m782/782\u001b[0m \u001b[32m━━━━━━━━━━━━━━━━━━━━\u001b[0m\u001b[37m\u001b[0m \u001b[1m34s\u001b[0m 42ms/step - accuracy: 0.7751 - loss: 0.6638 - val_accuracy: 0.7852 - val_loss: 0.6494 - learning_rate: 0.0010\n",
            "Epoch 9/50\n",
            "\u001b[1m782/782\u001b[0m \u001b[32m━━━━━━━━━━━━━━━━━━━━\u001b[0m\u001b[37m\u001b[0m \u001b[1m34s\u001b[0m 44ms/step - accuracy: 0.7737 - loss: 0.6656 - val_accuracy: 0.7904 - val_loss: 0.6442 - learning_rate: 0.0010\n",
            "Epoch 10/50\n",
            "\u001b[1m782/782\u001b[0m \u001b[32m━━━━━━━━━━━━━━━━━━━━\u001b[0m\u001b[37m\u001b[0m \u001b[1m41s\u001b[0m 43ms/step - accuracy: 0.7742 - loss: 0.6708 - val_accuracy: 0.7924 - val_loss: 0.6453 - learning_rate: 0.0010\n",
            "Epoch 11/50\n",
            "\u001b[1m782/782\u001b[0m \u001b[32m━━━━━━━━━━━━━━━━━━━━\u001b[0m\u001b[37m\u001b[0m \u001b[1m33s\u001b[0m 42ms/step - accuracy: 0.7782 - loss: 0.6595 - val_accuracy: 0.7944 - val_loss: 0.6159 - learning_rate: 0.0010\n",
            "Epoch 12/50\n",
            "\u001b[1m782/782\u001b[0m \u001b[32m━━━━━━━━━━━━━━━━━━━━\u001b[0m\u001b[37m\u001b[0m \u001b[1m36s\u001b[0m 45ms/step - accuracy: 0.7840 - loss: 0.6478 - val_accuracy: 0.7792 - val_loss: 0.6733 - learning_rate: 0.0010\n",
            "Epoch 13/50\n",
            "\u001b[1m782/782\u001b[0m \u001b[32m━━━━━━━━━━━━━━━━━━━━\u001b[0m\u001b[37m\u001b[0m \u001b[1m40s\u001b[0m 44ms/step - accuracy: 0.7760 - loss: 0.6612 - val_accuracy: 0.7795 - val_loss: 0.6644 - learning_rate: 0.0010\n",
            "Epoch 14/50\n",
            "\u001b[1m782/782\u001b[0m \u001b[32m━━━━━━━━━━━━━━━━━━━━\u001b[0m\u001b[37m\u001b[0m \u001b[1m35s\u001b[0m 45ms/step - accuracy: 0.7800 - loss: 0.6600 - val_accuracy: 0.8005 - val_loss: 0.6036 - learning_rate: 0.0010\n",
            "Epoch 15/50\n",
            "\u001b[1m782/782\u001b[0m \u001b[32m━━━━━━━━━━━━━━━━━━━━\u001b[0m\u001b[37m\u001b[0m \u001b[1m40s\u001b[0m 44ms/step - accuracy: 0.7835 - loss: 0.6448 - val_accuracy: 0.7920 - val_loss: 0.6220 - learning_rate: 0.0010\n",
            "Epoch 16/50\n",
            "\u001b[1m782/782\u001b[0m \u001b[32m━━━━━━━━━━━━━━━━━━━━\u001b[0m\u001b[37m\u001b[0m \u001b[1m34s\u001b[0m 43ms/step - accuracy: 0.7824 - loss: 0.6523 - val_accuracy: 0.7912 - val_loss: 0.6238 - learning_rate: 0.0010\n",
            "Epoch 17/50\n",
            "\u001b[1m782/782\u001b[0m \u001b[32m━━━━━━━━━━━━━━━━━━━━\u001b[0m\u001b[37m\u001b[0m \u001b[1m35s\u001b[0m 44ms/step - accuracy: 0.7831 - loss: 0.6453 - val_accuracy: 0.7877 - val_loss: 0.6295 - learning_rate: 0.0010\n",
            "Epoch 18/50\n",
            "\u001b[1m782/782\u001b[0m \u001b[32m━━━━━━━━━━━━━━━━━━━━\u001b[0m\u001b[37m\u001b[0m \u001b[1m35s\u001b[0m 44ms/step - accuracy: 0.7822 - loss: 0.6402 - val_accuracy: 0.7972 - val_loss: 0.6054 - learning_rate: 0.0010\n",
            "Epoch 19/50\n",
            "\u001b[1m782/782\u001b[0m \u001b[32m━━━━━━━━━━━━━━━━━━━━\u001b[0m\u001b[37m\u001b[0m \u001b[1m33s\u001b[0m 42ms/step - accuracy: 0.7860 - loss: 0.6450 - val_accuracy: 0.7930 - val_loss: 0.6275 - learning_rate: 0.0010\n",
            "Epoch 20/50\n",
            "\u001b[1m782/782\u001b[0m \u001b[32m━━━━━━━━━━━━━━━━━━━━\u001b[0m\u001b[37m\u001b[0m \u001b[1m35s\u001b[0m 44ms/step - accuracy: 0.7847 - loss: 0.6423 - val_accuracy: 0.7959 - val_loss: 0.6056 - learning_rate: 0.0010\n",
            "Epoch 21/50\n",
            "\u001b[1m782/782\u001b[0m \u001b[32m━━━━━━━━━━━━━━━━━━━━\u001b[0m\u001b[37m\u001b[0m \u001b[1m40s\u001b[0m 42ms/step - accuracy: 0.7887 - loss: 0.6337 - val_accuracy: 0.7910 - val_loss: 0.6084 - learning_rate: 0.0010\n",
            "Epoch 22/50\n",
            "\u001b[1m782/782\u001b[0m \u001b[32m━━━━━━━━━━━━━━━━━━━━\u001b[0m\u001b[37m\u001b[0m \u001b[1m34s\u001b[0m 43ms/step - accuracy: 0.7877 - loss: 0.6293 - val_accuracy: 0.7934 - val_loss: 0.6240 - learning_rate: 0.0010\n",
            "Epoch 23/50\n",
            "\u001b[1m782/782\u001b[0m \u001b[32m━━━━━━━━━━━━━━━━━━━━\u001b[0m\u001b[37m\u001b[0m \u001b[1m33s\u001b[0m 42ms/step - accuracy: 0.7856 - loss: 0.6343 - val_accuracy: 0.8043 - val_loss: 0.5835 - learning_rate: 0.0010\n",
            "Epoch 24/50\n",
            "\u001b[1m782/782\u001b[0m \u001b[32m━━━━━━━━━━━━━━━━━━━━\u001b[0m\u001b[37m\u001b[0m \u001b[1m34s\u001b[0m 44ms/step - accuracy: 0.7915 - loss: 0.6242 - val_accuracy: 0.7897 - val_loss: 0.6362 - learning_rate: 0.0010\n",
            "Epoch 25/50\n",
            "\u001b[1m782/782\u001b[0m \u001b[32m━━━━━━━━━━━━━━━━━━━━\u001b[0m\u001b[37m\u001b[0m \u001b[1m40s\u001b[0m 43ms/step - accuracy: 0.7869 - loss: 0.6344 - val_accuracy: 0.8014 - val_loss: 0.6036 - learning_rate: 0.0010\n",
            "Epoch 26/50\n",
            "\u001b[1m782/782\u001b[0m \u001b[32m━━━━━━━━━━━━━━━━━━━━\u001b[0m\u001b[37m\u001b[0m \u001b[1m34s\u001b[0m 43ms/step - accuracy: 0.7949 - loss: 0.6110 - val_accuracy: 0.8040 - val_loss: 0.6053 - learning_rate: 0.0010\n",
            "Epoch 27/50\n",
            "\u001b[1m782/782\u001b[0m \u001b[32m━━━━━━━━━━━━━━━━━━━━\u001b[0m\u001b[37m\u001b[0m \u001b[1m33s\u001b[0m 41ms/step - accuracy: 0.7868 - loss: 0.6306 - val_accuracy: 0.7867 - val_loss: 0.6453 - learning_rate: 0.0010\n",
            "Epoch 28/50\n",
            "\u001b[1m782/782\u001b[0m \u001b[32m━━━━━━━━━━━━━━━━━━━━\u001b[0m\u001b[37m\u001b[0m \u001b[1m34s\u001b[0m 43ms/step - accuracy: 0.7897 - loss: 0.6325 - val_accuracy: 0.8014 - val_loss: 0.6190 - learning_rate: 0.0010\n",
            "Epoch 29/50\n",
            "\u001b[1m782/782\u001b[0m \u001b[32m━━━━━━━━━━━━━━━━━━━━\u001b[0m\u001b[37m\u001b[0m \u001b[1m32s\u001b[0m 41ms/step - accuracy: 0.7902 - loss: 0.6272 - val_accuracy: 0.7959 - val_loss: 0.6293 - learning_rate: 0.0010\n",
            "Epoch 30/50\n",
            "\u001b[1m782/782\u001b[0m \u001b[32m━━━━━━━━━━━━━━━━━━━━\u001b[0m\u001b[37m\u001b[0m \u001b[1m42s\u001b[0m 43ms/step - accuracy: 0.7899 - loss: 0.6215 - val_accuracy: 0.7910 - val_loss: 0.6272 - learning_rate: 0.0010\n",
            "Epoch 31/50\n",
            "\u001b[1m782/782\u001b[0m \u001b[32m━━━━━━━━━━━━━━━━━━━━\u001b[0m\u001b[37m\u001b[0m \u001b[1m41s\u001b[0m 43ms/step - accuracy: 0.7991 - loss: 0.6020 - val_accuracy: 0.7939 - val_loss: 0.6238 - learning_rate: 0.0010\n",
            "Epoch 32/50\n",
            "\u001b[1m782/782\u001b[0m \u001b[32m━━━━━━━━━━━━━━━━━━━━\u001b[0m\u001b[37m\u001b[0m \u001b[1m32s\u001b[0m 41ms/step - accuracy: 0.7913 - loss: 0.6144 - val_accuracy: 0.8018 - val_loss: 0.6213 - learning_rate: 0.0010\n",
            "Epoch 33/50\n",
            "\u001b[1m782/782\u001b[0m \u001b[32m━━━━━━━━━━━━━━━━━━━━\u001b[0m\u001b[37m\u001b[0m \u001b[1m34s\u001b[0m 43ms/step - accuracy: 0.7928 - loss: 0.6149 - val_accuracy: 0.8053 - val_loss: 0.5932 - learning_rate: 0.0010\n"
          ]
        }
      ]
    },
    {
      "cell_type": "markdown",
      "source": [
        "**Question:**\n",
        "\n",
        "*o Why is weight initialization important, and how does it impact the\n",
        "convergence of your network?*\n",
        "\n",
        "Weight initialization is important because it ensures that the network starts with appropriate values for its weights, preventing issues like vanishing or exploding gradients. Poor initialization can slow down convergence or cause the model to get stuck in local minima. Proper initialization, such as using methods like Xavier or He initialization, helps the gradients flow well during backpropagation, leading to faster and more stable convergence."
      ],
      "metadata": {
        "id": "hjG5lXdnvjvO"
      }
    },
    {
      "cell_type": "markdown",
      "source": [
        "**Report:**\n",
        "\n",
        "\n",
        "*   Early Stopping: Prevents overfitting by stopping training when the validation loss stops improving.\n",
        "\n",
        "*   Learning Rate Scheduling: Adjusts the learning rate dynamically during training to prevent large oscillations or slow convergence.\n",
        "\n",
        "\n",
        "*   Weight Initialization: Proper weight initialization helps ensure faster convergence by preventing neurons from being stuck in dead states (e.g., ReLU activations stuck at zero).\n",
        "\n",
        "\n",
        "\n",
        "\n"
      ],
      "metadata": {
        "id": "m58SMbfDGMfe"
      }
    },
    {
      "cell_type": "markdown",
      "source": [
        "**8. Report Summary**\n",
        "\n",
        "\n",
        "*   Architecture: A 3-layer CNN with ReLU activations, max-pooling layers, and dropout for regularization. The final layer uses softmax for multi-class classification.\n",
        "\n",
        "*   Optimizer: Adam optimizer is chosen for its adaptive learning rate.\n",
        "\n",
        "\n",
        "*   Evaluation: After 50 epochs, the model achieves a reasonable accuracy, and metrics like precision, recall, and F1-score are analyzed.\n",
        "\n",
        "*   Challenges: Overfitting was handled using early stopping, and learning rate adjustments were applied for smoother training.\n",
        "\n",
        "\n",
        "\n",
        "\n"
      ],
      "metadata": {
        "id": "kmko_t6CGMsQ"
      }
    }
  ]
}